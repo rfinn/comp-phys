{
  "nbformat": 4,
  "nbformat_minor": 0,
  "metadata": {
    "colab": {
      "provenance": [],
      "authorship_tag": "ABX9TyO2G9J4C8W5JTjxsirzjzH6",
      "include_colab_link": true
    },
    "kernelspec": {
      "name": "python3",
      "display_name": "Python 3"
    },
    "language_info": {
      "name": "python"
    }
  },
  "cells": [
    {
      "cell_type": "markdown",
      "metadata": {
        "id": "view-in-github",
        "colab_type": "text"
      },
      "source": [
        "<a href=\"https://colab.research.google.com/github/rfinn/computational_physics/blob/main/03_Lab02_plotting_visualization.ipynb\" target=\"_parent\"><img src=\"https://colab.research.google.com/assets/colab-badge.svg\" alt=\"Open In Colab\"/></a>"
      ]
    },
    {
      "cell_type": "markdown",
      "source": [
        "# Overview\n",
        "\n",
        "* The goal of this lab is to introduce the basic plotting and visualization functions that we will use throughout the semester.\n",
        "\n",
        "* The main tool that we will use for plotting functions and data is matplotlib.  See https://matplotlib.org/stable/gallery/index.html for lots of example plots and code to create them.\n",
        "\n"
      ],
      "metadata": {
        "id": "vabXWyWTfsVJ"
      }
    },
    {
      "cell_type": "code",
      "execution_count": null,
      "metadata": {
        "id": "3M2L6LcAe4lA"
      },
      "outputs": [],
      "source": [
        "# We will import the modules that we need in the first cell\n",
        "# so we don't have to run this part repeatedly\n",
        "\n",
        "import numpy as np\n",
        "from matplotlib import pyplot as plt\n",
        "from astropy.table import Table\n",
        "# the following module is used to read in image files\n",
        "from matplotlib import image\n",
        "%matplotlib inline"
      ]
    },
    {
      "cell_type": "markdown",
      "source": [
        "# Warm Up - Functions\n",
        "\n",
        "(5 points)\n",
        "\n",
        "* Before moving on to plotting, we will do a warm up problem to practice making and using functions.\n",
        "\n",
        "\n",
        "### The Modulo Operator\n",
        "\n",
        "The modulo operator (%) returns the remainder of a division.  So if we enter:\n",
        "```\n",
        "10 % 2\n",
        "```\n",
        "we should get zero back.  Test this in the cell below, as well as\n",
        "\n",
        "```\n",
        "9 % 2\n",
        "```"
      ],
      "metadata": {
        "id": "QPOhDzFagUAm"
      }
    },
    {
      "cell_type": "code",
      "source": [
        "# test modulo function here by printing the output for the two lines above"
      ],
      "metadata": {
        "id": "ixIfWcT5gqwk"
      },
      "execution_count": null,
      "outputs": []
    },
    {
      "cell_type": "markdown",
      "source": [
        "Now write a function called **oddeven** that:\n",
        "* takes in an integer\n",
        "* prints out \"that's odd...\" if the number is odd\n",
        "* prints out \"even steven\" if the number is even.\n",
        "* returns a warning statement if the user enters something other than an integer.  For example:\n",
        "\n",
        "```python\n",
        "if type(n) != int:\n",
        "  print('please enter an integer')\n",
        "```\n",
        "\n"
      ],
      "metadata": {
        "id": "LPORhlU1gtIk"
      }
    },
    {
      "cell_type": "code",
      "source": [
        "# create your function here"
      ],
      "metadata": {
        "id": "6KFrscyCg8oS"
      },
      "execution_count": null,
      "outputs": []
    },
    {
      "cell_type": "code",
      "source": [
        "# test your function using an odd number as input\n",
        "\n",
        "# test your function using an even number as input\n",
        "\n",
        "# test your function with a non-integer as input\n",
        "\n"
      ],
      "metadata": {
        "id": "QHHbDGi8hAKA"
      },
      "execution_count": null,
      "outputs": []
    },
    {
      "cell_type": "markdown",
      "source": [
        "# Reading in data from a file and plotting it\n",
        "\n",
        "(5 points)\n",
        "\n",
        "- Here we will use **wget** to download a sample dataset, and we will read it in using np.loadtxt.  \n",
        "- NOTE: When you see an exclamation point in front of a command, we are actually calling a linux command from within colab.\n",
        "\n",
        "- The data file contains temperature and magnitude data for a sample of stars.  Magnitude is a weird astronomy units that measures how bright the star is.  A low value of magnitude is a brighter than a higher magnitude star.  Think of it as runners in a race - the first runner is fastest.\n",
        "\n",
        "- The plot of magnitude versus temperature is called the **Hertzsprung-Russell** diagram, named after the two astronomers who first plotted star properties in this way.  Astronomers use the Hertzsprung-Russel diagram to categorize stars into the classes that tell us something about where the star is along its evolution from birth to death."
      ],
      "metadata": {
        "id": "rXJendCNe7_Z"
      }
    },
    {
      "cell_type": "code",
      "source": [
        "!wget http://www-personal.umich.edu/~mejn/cp/data/stars.txt"
      ],
      "metadata": {
        "id": "AnNMcCHyfou6"
      },
      "execution_count": null,
      "outputs": []
    },
    {
      "cell_type": "code",
      "source": [
        "# check out the contents of your current directory using\n",
        "!ls"
      ],
      "metadata": {
        "id": "X6WlPHidoPj9"
      },
      "execution_count": null,
      "outputs": []
    },
    {
      "cell_type": "code",
      "source": [
        "star_data = np.loadtxt('stars.txt')\n",
        "# set the first column equal to temp in Kelvin\n",
        "temp = star_data[:,0]\n",
        "\n",
        "# set the second column equal to magnitude\n",
        "mag = star_data[:,1]"
      ],
      "metadata": {
        "id": "DsU6IeuSeDiS"
      },
      "execution_count": null,
      "outputs": []
    },
    {
      "cell_type": "code",
      "source": [
        "# open a figure\n",
        "plt.figure(figsize=(7,6))\n",
        "\n",
        "# use the plt.plot command to plot magnitude versus temperature\n",
        "# plot the points using blue stars\n",
        "# set alpha=.2 so you can see the points better\n",
        "\n",
        "\n",
        "# limit the x range uto (0,13000) using plt.xlim()\n",
        "\n",
        "\n",
        "# limit the x range uto (-5,20) using plt.ylim()\n",
        "\n",
        "\n",
        "# invert the x axis so that high lumonisities are on the left\n",
        "ax = plt.gca()\n",
        "ax.invert_xaxis()\n",
        "\n",
        "# invert the y axis because magnitudes are weird in that\n",
        "# brighter objects have lower magnitudes\n",
        "ax.invert_yaxis()\n",
        "\n",
        "# label your x and y axis\n",
        "\n",
        "\n",
        "# the sequence in the lower left is white dwarfs\n",
        "\n",
        "# add a text label to show where the white dwarfs are\n",
        "# using plt.text()  (use help(plt.text) to learn how to use it.)\n",
        "\n",
        "\n",
        "# the sequence around T=5000 and magnitude=0 are giants\n",
        "# add a label to show where the giants are using plt.text()"
      ],
      "metadata": {
        "id": "n_myP4Njevvt"
      },
      "execution_count": null,
      "outputs": []
    },
    {
      "cell_type": "code",
      "source": [
        "# plot again using the scatter plot command,\n",
        "# and color code by the temperature of the star\n",
        "# note that c=mycolor is how you add color to the scatter plot.\n"
      ],
      "metadata": {
        "id": "xA0-_9QbiLZA"
      },
      "execution_count": null,
      "outputs": []
    },
    {
      "cell_type": "markdown",
      "source": [
        "# Polar Plot\n",
        "\n",
        "(5 points)\n",
        "\n",
        "* Sometimes it's useful to visualize data using a polar plot.\n",
        "* The following example is from https://matplotlib.org/stable/gallery/pie_and_polar_charts/polar_demo.html"
      ],
      "metadata": {
        "id": "biQsgXQ-fkAv"
      }
    },
    {
      "cell_type": "code",
      "source": [
        "# create an array of radial values, r, that range from 0 to 2 with 200 steps\n",
        "\n",
        "# create an array of angles, theta, that is 2*np.pi*r\n",
        "\n",
        "\n",
        "# the main plotting commands are in place below\n",
        "fig, ax = plt.subplots(subplot_kw={'projection': 'polar'})\n",
        "ax.plot(theta, r)\n",
        "ax.set_rmax(2)\n",
        "ax.set_rticks([0.5, 1, 1.5, 2])  # Less radial ticks\n",
        "ax.set_rlabel_position(-22.5)  # Move radial labels away from plotted line\n",
        "ax.grid(True)\n",
        "\n",
        "ax.set_title(\"A line plot on a polar axis\", va='bottom')\n",
        "plt.show()"
      ],
      "metadata": {
        "id": "7y_qU_QvfoGD"
      },
      "execution_count": null,
      "outputs": []
    },
    {
      "cell_type": "code",
      "source": [
        "# make another polar plot showing sine and cosine of theta on the same plot\n",
        "# let theta range from zero to 2 pi, with 200 steps\n",
        "\n",
        "theta = np.linspace(0,2*np.pi,200)\n",
        "r = np.sin(theta)\n",
        "\n",
        "fig, ax = plt.subplots(subplot_kw={'projection': 'polar'},figsize=(6,6))\n",
        "\n",
        "ax.plot(theta, r)\n",
        "\n",
        "# enter code to plot cos(theta)\n",
        "\n",
        "\n",
        "ax.set_rticks([0.25, .5, .75,1])  # Less radial ticks\n",
        "ax.grid(True)\n"
      ],
      "metadata": {
        "id": "4gO1AO6Hvq6W"
      },
      "execution_count": null,
      "outputs": []
    },
    {
      "cell_type": "markdown",
      "source": [
        "# Displaying an image\n",
        "\n",
        "(5 points)\n",
        "\n",
        "We will use matplotlib's image module to display a jpg image."
      ],
      "metadata": {
        "id": "xylwHnqBe8Hj"
      }
    },
    {
      "cell_type": "code",
      "source": [
        "# here we are downloading an image from the web using the linux tool wget\n",
        "# the exclamation point tells us that this is a linux command\n",
        "!wget http://www.envisionarchitects.com/files/9615/5017/1251/Siena_Obs_3.jpg"
      ],
      "metadata": {
        "id": "qExpGaQqfpjY"
      },
      "execution_count": null,
      "outputs": []
    },
    {
      "cell_type": "code",
      "source": [
        "# we will use the image reader from matplotlib\n",
        "# (there are other options - feel free to google)\n",
        "# enter the image name below\n",
        "myimage = image.imread(\"Siena_Obs_3.jpg\")\n",
        "\n",
        "plt.imshow(myimage)"
      ],
      "metadata": {
        "id": "bA5dR-S6nbOr"
      },
      "execution_count": null,
      "outputs": []
    },
    {
      "cell_type": "markdown",
      "source": [
        "### Display another image\n",
        "Select another image to plot.  You can download the image from the web, or upload an image to your drive folder.  Or take a selfie!\n",
        "\n",
        "To upload an image from your computer, type the following in a separate cell to start an interactive dialog where you can select your image.\n",
        "\n",
        "```python\n",
        "from google.colab import files\n",
        "uploaded = files.upload()\n",
        "```"
      ],
      "metadata": {
        "id": "20wWXivOoGQ4"
      }
    },
    {
      "cell_type": "code",
      "source": [
        "# code to plot your second image here"
      ],
      "metadata": {
        "id": "uyESBmT2oE48"
      },
      "execution_count": null,
      "outputs": []
    },
    {
      "cell_type": "markdown",
      "source": [
        "# Fitting a Straight Line to Data (Adapted from Newman Problem 3.8)\n",
        "\n",
        "(5 points)\n",
        "\n",
        "* download the datafile millikan.txt from http://www-personal.umich.edu/~mejn/cp/data/millikan.txt\n",
        "* This is historic data from Rober Millikan that measured the photoelectric effect.\n",
        "* Read in the data using np.loadtxt\n",
        "  * the first colum is the frequence $\\nu$ in hertz\n",
        "  * the second column is the voltage $V$ in volts.\n",
        "* Plot the data using blue squares.\n",
        "```python\n",
        "plt.plot(x,y,'bs')\n",
        "```\n",
        "* Fit a line to the data using np.polyfit\n",
        "```python\n",
        "c = np.polyfit(x,y,1)\n",
        "```\n",
        "\n",
        "* Plot the best-fit line with the data. The following should be useful:\n",
        "```python\n",
        "xline = np.linspace(xmin,xmax,100)\n",
        "yline = np.polyval(c,xline)\n",
        "```\n",
        "\n",
        "* The physical equation that determines the best-fit line is\n",
        "$$V = \\frac{h}{e} \\nu - \\phi $$\n",
        "where\n",
        "  * V is the voltage of the ejected electron\n",
        "  * $\\nu$ is the frequency of the light that shines on the metal\n",
        "  * $\\phi$ is the amount of energy needed to remove the electron from the metal, also known as the work function.\n",
        "  * $h$ is Planck's constant\n",
        "  * $e=1.6 \\times 10^{-19}$ C is the charge of the electron in Coulombs.\n",
        "\n",
        "* From your best fit slope and intercept, determine the values of the work function and Planck's constant.  Print the results in clearly labeled, formatted print statements.\n",
        "\n"
      ],
      "metadata": {
        "id": "u6KF_A6Fe8Xc"
      }
    },
    {
      "cell_type": "code",
      "source": [
        "# enter your code here\n",
        "# first create a series of comments to describe what your code will do\n",
        "# then develop the code"
      ],
      "metadata": {
        "id": "jVh2d7EPfqN8"
      },
      "execution_count": null,
      "outputs": []
    },
    {
      "cell_type": "markdown",
      "source": [
        "# Histogram of Data\n",
        "\n",
        "(5 points)\n",
        "\n",
        "* Histograms are useful for looking at the distribution of values for one particular quantity.\n",
        "* In this problem, we will generate 100 random values that are drawn from a Gaussian distribution, and we will then plot the values in a histogram.\n",
        "* We will then calculate the average and standard deviation, and show these values on the graph.\n",
        "\n",
        "* Read through the output from help - **what do you expect the mean and standard deviation to be?**"
      ],
      "metadata": {
        "id": "gGNCngRysZGd"
      }
    },
    {
      "cell_type": "code",
      "source": [
        "# explore the function using help\n",
        "help(np.random.normal)"
      ],
      "metadata": {
        "id": "bD4eZpX5b9c7"
      },
      "execution_count": null,
      "outputs": []
    },
    {
      "cell_type": "code",
      "source": [
        "plt.figure(figsize=(8,6))\n",
        "\n",
        "gauss_values = np.random.normal(size=100)\n",
        "plt.hist(gauss_values)\n",
        "print(\"average value = {:.2f}\".format(np.mean(gauss_values)))\n",
        "print(\"the STD = {:.2f}\".format(np.std(gauss_values)))\n",
        "\n",
        "# add code to plot a solid vertical line at the average\n",
        "# you can pick the color, but it should be different from the histogram\n",
        "# use plt.axvline()\n",
        "\n",
        "# add code to plot dotted vertical lines at\n",
        "# you can pick the color, but it should be different from the histogram\n",
        "# average + std\n",
        "# average - std\n",
        "\n",
        "# once your figure is set, try increasing the sample size\n",
        "# what happens to the mean and std as the sample size increases?"
      ],
      "metadata": {
        "id": "Hmc8zY8vsuWW"
      },
      "execution_count": null,
      "outputs": []
    },
    {
      "cell_type": "markdown",
      "source": [
        "# Multipanel Plot\n",
        "\n",
        "(5 points)\n",
        "* create a plot with 4 panel - two columns and two rows.  You can call the top plot using plt.subplot(nrow,ncol,nplot), or\n",
        "```python\n",
        "plt.subplot(2,2,1)\n",
        "```\n",
        "* plot $sin(\\theta)$ vs. $\\theta$ in the first panel.\n",
        "* plot $cos(\\theta)$ vs. $\\theta$ in the second panel.\n",
        "* plot $tan(\\theta)$ vs. $\\theta$ in the third panel.\n",
        "* plot all three functions together in the fourth panel.\n",
        "* use np.cos, np.sin, np.tan\n",
        "* all plots should be over the range $0 < \\theta < 2\\pi$."
      ],
      "metadata": {
        "id": "rRhDCqA3KY3L"
      }
    },
    {
      "cell_type": "code",
      "source": [
        "# Your code here"
      ],
      "metadata": {
        "id": "ikAd83lxLT7u"
      },
      "execution_count": null,
      "outputs": []
    },
    {
      "cell_type": "markdown",
      "source": [
        "# 3D Plots\n",
        "\n",
        "(5 points)\n",
        "\n",
        "* Below is an example of a 3D plot, just for future reference.\n",
        "* You don't need to add anything except a title that indicates some physical situation where this type of motion could arise.\n",
        "*NOTE: if you run this cell on your own installation of notebook, you will be able to move the plot around to view it from different angles."
      ],
      "metadata": {
        "id": "j99lMS0KLs5F"
      }
    },
    {
      "cell_type": "code",
      "source": [
        "fig = plt.figure()\n",
        "\n",
        "# keeping the projection = 3d\n",
        "# ctreates the 3d plot\n",
        "ax = plt.axes(projection = '3d')\n",
        "time = np.linspace(0,10)\n",
        "x = np.cos(time)\n",
        "y = np.sin(time)\n",
        "plt.plot(x,y,time)\n",
        "\n",
        "# add your title here!"
      ],
      "metadata": {
        "id": "mt8EQsKTLxY7"
      },
      "execution_count": null,
      "outputs": []
    },
    {
      "cell_type": "markdown",
      "source": [
        "# One final plot of your choice\n",
        "\n",
        "(5 points)\n",
        "\n",
        "* Check out the Examples and Tutorials on the [matplotlib website](https://matplotlib.org/stable/index.html).\n",
        "* Select a plot that you like and replicate the code here."
      ],
      "metadata": {
        "id": "9tHuzkp-ulUb"
      }
    },
    {
      "cell_type": "code",
      "source": [],
      "metadata": {
        "id": "t4HGw4QZuknD"
      },
      "execution_count": null,
      "outputs": []
    },
    {
      "cell_type": "markdown",
      "source": [
        "# Summarize What You Learned and Save Your Work\n",
        "\n",
        "* Save your notebook to github.\n",
        "* On your wiki, create a summary page of the important points covered in this lab.\n",
        "* This should be similar to the reference cheat-sheets, rather than a paragraph summary. So include code snippets and explanatory text.\n"
      ],
      "metadata": {
        "id": "fjakxpWglQ1Q"
      }
    },
    {
      "cell_type": "code",
      "source": [],
      "metadata": {
        "id": "DyJXhpo1lkpc"
      },
      "execution_count": null,
      "outputs": []
    }
  ]
}