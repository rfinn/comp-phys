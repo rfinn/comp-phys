{
  "nbformat": 4,
  "nbformat_minor": 0,
  "metadata": {
    "colab": {
      "provenance": [],
      "authorship_tag": "ABX9TyN9FuwGQcPzzPc2ffylBrQl",
      "include_colab_link": true
    },
    "kernelspec": {
      "name": "python3",
      "display_name": "Python 3"
    },
    "language_info": {
      "name": "python"
    }
  },
  "cells": [
    {
      "cell_type": "markdown",
      "metadata": {
        "id": "view-in-github",
        "colab_type": "text"
      },
      "source": [
        "<a href=\"https://colab.research.google.com/github/rfinn/comp-phys/blob/main/Copy_of_00_python_intro_student.ipynb\" target=\"_parent\"><img src=\"https://colab.research.google.com/assets/colab-badge.svg\" alt=\"Open In Colab\"/></a>"
      ]
    },
    {
      "cell_type": "code",
      "execution_count": null,
      "metadata": {
        "id": "kvsJXb9MqEbx"
      },
      "outputs": [],
      "source": [
        "+"
      ]
    },
    {
      "cell_type": "markdown",
      "source": [
        "# Import modules\n",
        "\n",
        "```\n",
        "import numpy as np\n",
        "from matplotlib import pyplot as plt\n",
        "```"
      ],
      "metadata": {
        "id": "3W-irX9hqHyY"
      }
    },
    {
      "cell_type": "code",
      "source": [
        "# your code here\n",
        "import numpy as np\n",
        "from matplotlib import pyplot as plt"
      ],
      "metadata": {
        "id": "PUDGrE9RqNPo"
      },
      "execution_count": 1,
      "outputs": []
    },
    {
      "cell_type": "markdown",
      "source": [
        "# Defining Variables\n",
        "\n",
        "### A single variable\n",
        "```\n",
        "x = 2\n",
        "```\n",
        "\n",
        "### A list\n",
        "A list can contain different types of elements: numbers, strings, array, tuples.\n",
        "```\n",
        "mynumbers = [1,2,3]\n",
        "```\n",
        "\n",
        "```\n",
        "myletters = ['a','b','c','d','e']\n",
        "```\n",
        "\n",
        "\n"
      ],
      "metadata": {
        "id": "tfvZlkCbqPz5"
      }
    },
    {
      "cell_type": "code",
      "source": [
        "# define a variable x and set it equal to 1\n",
        "x = 1"
      ],
      "metadata": {
        "id": "RZ31vpmLqa4T"
      },
      "execution_count": 2,
      "outputs": []
    },
    {
      "cell_type": "code",
      "source": [
        "x"
      ],
      "metadata": {
        "colab": {
          "base_uri": "https://localhost:8080/"
        },
        "id": "tEgU44t_5LOn",
        "outputId": "a1b1089b-1b38-4aa1-a375-5930c5bfd0fe"
      },
      "execution_count": 3,
      "outputs": [
        {
          "output_type": "execute_result",
          "data": {
            "text/plain": [
              "1"
            ]
          },
          "metadata": {},
          "execution_count": 3
        }
      ]
    },
    {
      "cell_type": "markdown",
      "source": [
        "# Printing\n",
        "\n",
        "Printing is so important when developing code.  If something is not working,\n",
        "you should insert print statements to check the values of your variables\n",
        "at different points in your code.\n",
        "\n",
        "The basic print format is:\n",
        "\n",
        "```\n",
        "print(\"This is a print statement.\")\n",
        "```"
      ],
      "metadata": {
        "id": "7tRzR95wqdzv"
      }
    },
    {
      "cell_type": "code",
      "source": [
        "# write a print statement to print \"hello world!\"\n",
        "print(\"hello world\")\n",
        "print(x)"
      ],
      "metadata": {
        "id": "oLJF171arQ4Y",
        "colab": {
          "base_uri": "https://localhost:8080/"
        },
        "outputId": "e4646739-8d5a-4f75-afb4-3472f8e55b23"
      },
      "execution_count": 5,
      "outputs": [
        {
          "output_type": "stream",
          "name": "stdout",
          "text": [
            "hello world\n",
            "1\n"
          ]
        }
      ]
    },
    {
      "cell_type": "markdown",
      "source": [
        "# Formatting Printing\n",
        "\n",
        "Our variables often have a large number of decimal places, and you might not\n",
        "want to print the full number.  "
      ],
      "metadata": {
        "id": "li3daLSnrcl-"
      }
    },
    {
      "cell_type": "code",
      "source": [
        "# formatted print statement\n",
        "print(f\"the value of x = {x}\")"
      ],
      "metadata": {
        "id": "wbXTXLl1uGOy",
        "colab": {
          "base_uri": "https://localhost:8080/"
        },
        "outputId": "44837967-6160-4d2b-eaf0-25090ca5ad42"
      },
      "execution_count": 6,
      "outputs": [
        {
          "output_type": "stream",
          "name": "stdout",
          "text": [
            "the value of x = 1\n"
          ]
        }
      ]
    },
    {
      "cell_type": "code",
      "source": [
        "print(f\"pi = {np.pi:.2e}\")\n",
        "G = 6.67e-11\n",
        "\n",
        "print(f\"G = {G:.2e}\")"
      ],
      "metadata": {
        "colab": {
          "base_uri": "https://localhost:8080/"
        },
        "id": "R3CIA-1x5wS1",
        "outputId": "f37522f8-3e75-41bd-d042-49f8dc7f6653"
      },
      "execution_count": 14,
      "outputs": [
        {
          "output_type": "stream",
          "name": "stdout",
          "text": [
            "pi = 3.14e+00\n",
            "G = 6.67e-11\n"
          ]
        }
      ]
    },
    {
      "cell_type": "markdown",
      "source": [
        "# Functions\n",
        "\n",
        "Functions are chunks of code that can take input arguments and\n",
        "can return values.\n",
        "\n",
        "Here is a simple function that takes a number as an input and\n",
        "returns the number plus one and then prints the results.\n",
        "\n",
        "```\n",
        "def addone(x):\n",
        "    \"\"\"  this function adds one to the input number \"\"\"\n",
        "    x = x + 1\n",
        "    print(x)\n",
        "```"
      ],
      "metadata": {
        "id": "t8n87cLIuJsk"
      }
    },
    {
      "cell_type": "code",
      "source": [
        "# define the addone function here\n",
        "def addone(z):\n",
        "    \"\"\"  this function adds one to the input number \"\"\"\n",
        "    z = z + 1\n",
        "    return z"
      ],
      "metadata": {
        "id": "r8bSMEdrvRl5"
      },
      "execution_count": 23,
      "outputs": []
    },
    {
      "cell_type": "markdown",
      "source": [
        "### Calling a function\n",
        "\n",
        "In the cell below, set `x=1` and pass `x` to `addone`.\n",
        "\n",
        "Then let's look at what happens to the value of x in the\n",
        "variable editor."
      ],
      "metadata": {
        "id": "ElWsHnE9vczc"
      }
    },
    {
      "cell_type": "code",
      "source": [
        "# define x\n",
        "x = 1\n",
        "# pass x to function addone\n",
        "addone(x)\n",
        "print(f\"x = {x}\")\n",
        "\n",
        "y = addone(x)\n",
        "print(f\"y = {y}\")"
      ],
      "metadata": {
        "id": "zOjAknPIvVF9",
        "colab": {
          "base_uri": "https://localhost:8080/"
        },
        "outputId": "d438c035-b187-4920-d693-8e5188146486"
      },
      "execution_count": 24,
      "outputs": [
        {
          "output_type": "stream",
          "name": "stdout",
          "text": [
            "x = 1\n",
            "y = 2\n"
          ]
        }
      ]
    },
    {
      "cell_type": "markdown",
      "source": [
        "### Returning values from a function"
      ],
      "metadata": {
        "id": "e41blLTnvsut"
      }
    },
    {
      "cell_type": "code",
      "source": [
        "# update the addone funtion to:\n",
        "# print 2 decimal places\n",
        "# return the new value\n",
        "def addone(z):\n",
        "    \"\"\"  this function adds one to the input number \"\"\"\n",
        "    z = z + 1\n",
        "    print(f\"new value = {z:.2f}\")\n",
        "    return z\n"
      ],
      "metadata": {
        "id": "iMRz5wUUuYcc"
      },
      "execution_count": 25,
      "outputs": []
    },
    {
      "cell_type": "code",
      "source": [
        "y = addone(x)"
      ],
      "metadata": {
        "colab": {
          "base_uri": "https://localhost:8080/"
        },
        "id": "hI9Kbxvq9rOu",
        "outputId": "ec372f03-0435-403c-eacc-46f8e7cedca2"
      },
      "execution_count": 26,
      "outputs": [
        {
          "output_type": "stream",
          "name": "stdout",
          "text": [
            "new value = 2.00\n"
          ]
        }
      ]
    },
    {
      "cell_type": "markdown",
      "source": [
        "# For Loops\n",
        "\n",
        "Let's set up an array to contain 10 values:\n",
        "```\n",
        "myvals = np.arange(10)\n",
        "```\n",
        "\n",
        "Now let's use a for loop to print out the number greater than 5.\n",
        "\n"
      ],
      "metadata": {
        "id": "3g7RUJ2bwsw5"
      }
    },
    {
      "cell_type": "code",
      "source": [
        "# your code here\n",
        "# for loop to print out numbers greater than 5\n",
        "myvals = np.arange(10)\n",
        "#print(myvals)\n",
        "\n",
        "for v in myvals:\n",
        "  if v > 5:\n",
        "    print(v)\n",
        "\n",
        "#for i in range(len(myvals)):\n",
        "#  print(myvals[i])"
      ],
      "metadata": {
        "id": "Z6zyk-LUw1BT",
        "colab": {
          "base_uri": "https://localhost:8080/"
        },
        "outputId": "2e3814e0-82a8-4329-cc20-8e54da98cddf"
      },
      "execution_count": 31,
      "outputs": [
        {
          "output_type": "stream",
          "name": "stdout",
          "text": [
            "6\n",
            "7\n",
            "8\n",
            "9\n"
          ]
        }
      ]
    },
    {
      "cell_type": "markdown",
      "source": [
        "# While loops\n",
        "\n",
        "A `while` loop will continue until the conditional is not met.\n",
        "\n",
        "Let's write a while loop to keep incrementing a number until the number reaches 20."
      ],
      "metadata": {
        "id": "N-lEkNdexYFG"
      }
    },
    {
      "cell_type": "code",
      "source": [
        "# while loop to keep incrementing a number until the number reaches 20\n",
        "mynum = 0\n",
        "\n",
        "while mynum < 20:\n",
        "  print(mynum)\n",
        "  mynum = mynum + 1\n",
        "\n",
        "print(f\"mynum = {mynum}\")"
      ],
      "metadata": {
        "id": "nLaKfZn3JXLq",
        "colab": {
          "base_uri": "https://localhost:8080/"
        },
        "outputId": "5db7df52-e133-483a-c4ea-6051a96e9b36"
      },
      "execution_count": 34,
      "outputs": [
        {
          "output_type": "stream",
          "name": "stdout",
          "text": [
            "0\n",
            "1\n",
            "2\n",
            "3\n",
            "4\n",
            "5\n",
            "6\n",
            "7\n",
            "8\n",
            "9\n",
            "10\n",
            "11\n",
            "12\n",
            "13\n",
            "14\n",
            "15\n",
            "16\n",
            "17\n",
            "18\n",
            "19\n",
            "mynum = 20\n"
          ]
        }
      ]
    },
    {
      "cell_type": "markdown",
      "source": [
        "# Conditionals\n",
        "\n"
      ],
      "metadata": {
        "id": "7ZSXMMjfw3Zi"
      }
    },
    {
      "cell_type": "code",
      "source": [
        "# ask for an input number\n",
        "test_number = int(input(\"enter a number between 1 and 10\\n\"))\n",
        "print(f\"I think you entered {test_number}\")\n",
        "# if number is greater than 10, then reject input\n",
        "if (test_number > 10):\n",
        "  print(\"your value is too high, must be between 1 and 10\")\n",
        "# if number is less than 1, then reject input\n",
        "elif (test_number < 1):\n",
        "  print(\"your value is too low, must be between 1 and 10\")\n",
        "# if the user enters 7, print \"lucky guess\"\n",
        "elif (test_number == 7):\n",
        "  print(\"lucky guess!\")\n",
        "# for all other numbers, print \"not correct - better luck next time!\"\n",
        "else:\n",
        "  print(\"not correct - better luck next time!\")"
      ],
      "metadata": {
        "id": "AiSellYDw2gG",
        "colab": {
          "base_uri": "https://localhost:8080/"
        },
        "outputId": "7de06029-d5a3-4bb9-91da-d1a269690ab5"
      },
      "execution_count": 38,
      "outputs": [
        {
          "output_type": "stream",
          "name": "stdout",
          "text": [
            "enter a number between 1 and 10\n",
            "7\n",
            "I think you entered 7\n",
            "lucky guess!\n"
          ]
        }
      ]
    },
    {
      "cell_type": "markdown",
      "source": [
        "# Basic Plotting\n",
        "\n",
        "Visualizing variables is essential for checking and understanding the results\n",
        "of any code that we write.\n",
        "\n",
        "We will start with a simple example to plot $y = 2 x^2$ over the range $0 \\le x \\le 10$."
      ],
      "metadata": {
        "id": "tSovgxtxyR7-"
      }
    },
    {
      "cell_type": "code",
      "source": [
        "# code to make plot here\n",
        "# define x using np.linspace\n",
        "x = np.linspace(0,10,100)\n",
        "# define y\n",
        "y = 2*x**2\n",
        "# open a figure\n",
        "plt.figure(figsize=(10,4))\n",
        "plt.subplot(1,2,1)\n",
        "# plot y vs x using plt.plot\n",
        "plt.plot(x,y,'cs',markersize=4,label=\"$y=2x^2$\")\n",
        "plt.xlabel(\"x\",fontsize=16)\n",
        "plt.ylabel(\"y\",fontsize=16)\n",
        "plt.title(\"A beautiful plot!\",fontsize=20)\n",
        "plt.legend()\n",
        "\n",
        "# make another figure, but use plt.scatter instead of plt.plot\n",
        "#plt.figure(figsize=(6,4))\n",
        "plt.subplot(1,2,2)\n",
        "# plot y vs x using plt.plot\n",
        "mycolor = np.arange(len(x))\n",
        "plt.scatter(x,y,c=mycolor,label=\"$y=2x^2$\")\n",
        "cb = plt.colorbar(label='x index')\n",
        "plt.xlabel(\"x\",fontsize=16)\n",
        "plt.ylabel(\"y\",fontsize=16)\n",
        "plt.title(\"A beautiful plot!\",fontsize=20)\n",
        "plt.legend()\n"
      ],
      "metadata": {
        "id": "K401UT-QzA4s",
        "colab": {
          "base_uri": "https://localhost:8080/",
          "height": 330
        },
        "outputId": "9bb47c0c-db91-4be5-a2be-ed0e9472c77f"
      },
      "execution_count": 51,
      "outputs": [
        {
          "output_type": "execute_result",
          "data": {
            "text/plain": [
              "<matplotlib.legend.Legend at 0x7916bc8458a0>"
            ]
          },
          "metadata": {},
          "execution_count": 51
        },
        {
          "output_type": "display_data",
          "data": {
            "text/plain": [
              "<Figure size 1000x400 with 3 Axes>"
            ],
            "image/png": "[encoded data removed]"
          },
          "metadata": {}
        }
      ]
    },
    {
      "cell_type": "code",
      "source": [],
      "metadata": {
        "id": "0Oa7EG-f0_AM"
      },
      "execution_count": null,
      "outputs": []
    },
    {
      "cell_type": "markdown",
      "source": [
        "# Function Practice\n",
        "\n",
        "Convert the lucky 7 cell into a function where user passes in a test value."
      ],
      "metadata": {
        "id": "LZVfe0iyH7SX"
      }
    },
    {
      "cell_type": "code",
      "source": [
        "def lucky7(test_number):\n",
        "  \"\"\" check if the input number is equal to 7 (and between 1 and 10)  \"\"\"\n",
        "  if (test_number > 10):\n",
        "    print(\"your value is too high, must be between 1 and 10\")\n",
        "    return 99\n",
        "  # if number is less than 1, then reject input\n",
        "  elif (test_number < 1):\n",
        "    print(\"your value is too low, must be between 1 and 10\")\n",
        "    return -99\n",
        "  # if the user enters 7, print \"lucky guess\"\n",
        "  elif (test_number == 7):\n",
        "    print(\"lucky guess!\")\n",
        "    return 1\n",
        "  # for all other numbers, print \"not correct - better luck next time!\"\n",
        "  else:\n",
        "    print(\"not correct - better luck next time!\")\n",
        "    return 0"
      ],
      "metadata": {
        "id": "TFE5nsN0H6kH"
      },
      "execution_count": 54,
      "outputs": []
    },
    {
      "cell_type": "code",
      "source": [
        "assert lucky7(21) == 99"
      ],
      "metadata": {
        "colab": {
          "base_uri": "https://localhost:8080/"
        },
        "id": "Wk7T7KrUKK78",
        "outputId": "eebea0d9-9efb-405c-dd08-5a9aeb0f6601"
      },
      "execution_count": 61,
      "outputs": [
        {
          "output_type": "stream",
          "name": "stdout",
          "text": [
            "your value is too high, must be between 1 and 10\n"
          ]
        }
      ]
    },
    {
      "cell_type": "code",
      "source": [
        "x = 2\n",
        "assert x == 3"
      ],
      "metadata": {
        "colab": {
          "base_uri": "https://localhost:8080/",
          "height": 194
        },
        "id": "k6qOPNyfKMW1",
        "outputId": "2da44035-128a-45f6-faa9-4e970cd2eb84"
      },
      "execution_count": 58,
      "outputs": [
        {
          "output_type": "error",
          "ename": "AssertionError",
          "evalue": "",
          "traceback": [
            "\u001b[0;31m---------------------------------------------------------------------------\u001b[0m",
            "\u001b[0;31mAssertionError\u001b[0m                            Traceback (most recent call last)",
            "\u001b[0;32m<ipython-input-58-fcd1fdabc277>\u001b[0m in \u001b[0;36m<cell line: 2>\u001b[0;34m()\u001b[0m\n\u001b[1;32m      1\u001b[0m \u001b[0mx\u001b[0m \u001b[0;34m=\u001b[0m \u001b[0;36m2\u001b[0m\u001b[0;34m\u001b[0m\u001b[0;34m\u001b[0m\u001b[0m\n\u001b[0;32m----> 2\u001b[0;31m \u001b[0;32massert\u001b[0m \u001b[0mx\u001b[0m \u001b[0;34m==\u001b[0m \u001b[0;36m3\u001b[0m\u001b[0;34m\u001b[0m\u001b[0;34m\u001b[0m\u001b[0m\n\u001b[0m",
            "\u001b[0;31mAssertionError\u001b[0m: "
          ]
        }
      ]
    },
    {
      "cell_type": "code",
      "source": [],
      "metadata": {
        "id": "4cDW_ilsLg7q"
      },
      "execution_count": null,
      "outputs": []
    }
  ]
}