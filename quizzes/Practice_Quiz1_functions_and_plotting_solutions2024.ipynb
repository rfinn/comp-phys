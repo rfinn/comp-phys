{
  "nbformat": 4,
  "nbformat_minor": 0,
  "metadata": {
    "colab": {
      "provenance": [],
      "include_colab_link": true
    },
    "kernelspec": {
      "name": "python3",
      "display_name": "Python 3"
    },
    "language_info": {
      "name": "python"
    }
  },
  "cells": [
    {
      "cell_type": "markdown",
      "metadata": {
        "id": "view-in-github",
        "colab_type": "text"
      },
      "source": [
        "<a href=\"https://colab.research.google.com/github/rfinn/comp-phys/blob/main/Practice_Quiz1_functions_and_plotting_solutions2024.ipynb\" target=\"_parent\"><img src=\"https://colab.research.google.com/assets/colab-badge.svg\" alt=\"Open In Colab\"/></a>"
      ]
    },
    {
      "cell_type": "markdown",
      "source": [
        "# Quiz 1\n",
        "*written by Noah Franz*\n",
        "\n",
        "\n",
        "# Directions\n",
        "\n",
        "* Make a copy of this notebook and replace COPY with your LASTNAME_FIRSTNAME.\n",
        "* Please complete the Questions below - You can not use any resources except your brain!\n",
        "* Make sure to add comment strings for the function you write.\n",
        "* Be sure to comment your code so I can understand what you are thinking and give partial credit if needed.\n",
        "* Use descriptive variable names.\n",
        "\n",
        "# Submitting Your Notebook\n",
        "\n",
        "* Be sure to share your notebook with me.\n",
        "* Submit the link to the notebook to canvas. (Share -> Copy Link)"
      ],
      "metadata": {
        "id": "eM50FiavkJy9"
      }
    },
    {
      "cell_type": "markdown",
      "source": [
        "## Part 1\n",
        "\n",
        "Please write a function, `myfunc`, to describe the following equation:\n",
        "\n",
        "$$ y = \\frac{1}{\\sqrt{2\\pi}} ~ e^{-\\frac{x^2}{2}} $$\n",
        "\n",
        "The function should take in x-values as an input and return the corresponding y-values.\n",
        "\n",
        "*Hint*: compute the exponent of $e$ using `np.exp(x)`, where x is a numpy array of values"
      ],
      "metadata": {
        "id": "vaPcrmREePmY"
      }
    },
    {
      "cell_type": "code",
      "source": [
        "# import numpy and pyplot here\n",
        "\n",
        "import numpy as np\n",
        "from matplotlib import pyplot as plt"
      ],
      "metadata": {
        "id": "AxiWrUJGhHip"
      },
      "execution_count": 1,
      "outputs": []
    },
    {
      "cell_type": "code",
      "source": [
        "# function goes here\n",
        "\n",
        "def myfunc(x):\n",
        "  \"\"\"comment string  \"\"\"\n",
        "  y = 1/np.sqrt(np.pi*2)* np.exp(-x**2/2)\n",
        "  return y"
      ],
      "metadata": {
        "id": "40GHIGnRge_-"
      },
      "execution_count": 2,
      "outputs": []
    },
    {
      "cell_type": "markdown",
      "source": [
        "## Part 2\n",
        "\n",
        "Test your function with the following values:\n",
        "* myfunc(0)\n",
        "* myfunc(1)\n",
        "* myfunc(-2)\n",
        "\n",
        "Display these values nicely formatted using f-strings."
      ],
      "metadata": {
        "id": "E3NNHX3-g5IP"
      }
    },
    {
      "cell_type": "code",
      "source": [
        "# tests go here\n",
        "print(f\"myfunc(0) = {myfunc(0):.2f}\")\n",
        "print(f\"myfunc(1) = {myfunc(1):.2f}\")\n",
        "print(f\"myfunc(-2) = {myfunc(-2):.2f}\")"
      ],
      "metadata": {
        "id": "BJImSQ8fhB8C",
        "colab": {
          "base_uri": "https://localhost:8080/"
        },
        "outputId": "5c860eed-d878-4134-d13a-ae419be0de8f"
      },
      "execution_count": 4,
      "outputs": [
        {
          "output_type": "stream",
          "name": "stdout",
          "text": [
            "myfunc(0) = 0.40\n",
            "myfunc(1) = 0.24\n",
            "myfunc(-2) = 0.05\n"
          ]
        }
      ]
    },
    {
      "cell_type": "markdown",
      "source": [
        "## Part 3\n",
        "\n",
        "Please use the function from `Part 1` to make a plot.\n",
        "* Make an x array that ranges $-5\\leq x \\leq 5$ with 100 elements\n",
        "* create a y array using your function\n",
        "* make sure to label your axis"
      ],
      "metadata": {
        "id": "2-uPQZdBggkG"
      }
    },
    {
      "cell_type": "code",
      "source": [
        "# plotting code goes here\n",
        "x = np.linspace(-5,5,100)\n",
        "y = myfunc(x)\n",
        "\n",
        "plt.figure()\n",
        "plt.plot(x,y)\n",
        "plt.xlabel(\"x values\")\n",
        "plt.ylabel(\"y values\")"
      ],
      "metadata": {
        "id": "3c15wQEXfjcf",
        "colab": {
          "base_uri": "https://localhost:8080/",
          "height": 466
        },
        "outputId": "1bd544d5-46b0-4593-c800-cc71a9155c88"
      },
      "execution_count": 5,
      "outputs": [
        {
          "output_type": "execute_result",
          "data": {
            "text/plain": [
              "Text(0, 0.5, 'y values')"
            ]
          },
          "metadata": {},
          "execution_count": 5
        },
        {
          "output_type": "display_data",
          "data": {
            "text/plain": [
              "<Figure size 640x480 with 1 Axes>"
            ],
            "image/png": "[encoded data removed]"
          },
          "metadata": {}
        }
      ]
    },
    {
      "cell_type": "markdown",
      "source": [
        "## Extra Credit\n",
        "\n",
        "What is the name of this equation?\n",
        "\n",
        "**Gaussian/Normal Distribution**"
      ],
      "metadata": {
        "id": "9EysPWh6j8AG"
      }
    },
    {
      "cell_type": "code",
      "source": [],
      "metadata": {
        "id": "_Dae-b6u_nZV"
      },
      "execution_count": null,
      "outputs": []
    }
  ]
}